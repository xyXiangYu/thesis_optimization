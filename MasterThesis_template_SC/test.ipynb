{
 "cells": [
  {
   "cell_type": "code",
   "execution_count": 5,
   "metadata": {},
   "outputs": [],
   "source": [
    "\n",
    "import numpy as np\n",
    "import matplotlib.pyplot as plt\n",
    "from gekko import GEKKO\n",
    "\n",
    "def get_solver(p, nr_points=501): \n",
    "    # create GEKKO model\n",
    "    m = GEKKO()\n",
    "    m.time = np.linspace(0,1,nr_points) # scale 0-1 time with tf\n",
    "    # options\n",
    "    m.options.NODES = 6\n",
    "    m.options.SOLVER = 3\n",
    "    m.options.IMODE = 6\n",
    "    m.options.MAX_ITER = 500\n",
    "    m.options.MV_TYPE = 0\n",
    "    m.options.DIAGLEVEL = 0\n",
    "\n",
    "    tf = m.FV(value=1.0,lb=0.1,ub=15) # final time\n",
    "    tf.STATUS = 1\n",
    "    u = m.MV(value=10,lb=-10,ub=10) # force\n",
    "    u.STATUS = 1\n",
    "    u.DCOST = 1e-8\n",
    "    s = m.Var(value=0,lb=0, ub=100) # variables\n",
    "    v = m.Var(value=0,lb=-10,ub=4)\n",
    "\n",
    "    # differential equations scaled by tf\n",
    "    m.Equation(s.dt()==tf*v)\n",
    "    m.Equation(v.dt()==tf*(u - p))\n",
    "    \n",
    "    m.fix(s, pos=len(m.time)-1,val=10.0) # specify endpoint conditions\n",
    "    #m.fix(v, pos=len(m.time)-1,val=-0.0)\n",
    "    m.Obj(tf) # minimize final time\n",
    "    m.solve() # Optimize launch\n",
    "    ts = m.time * tf.value[0]\n",
    "\n",
    "    ##return ts, s.value, v.value, u.value    \n",
    "    return m, tf, s, v , u    "
   ]
  },
  {
   "cell_type": "code",
   "execution_count": 6,
   "metadata": {},
   "outputs": [],
   "source": [
    "def plot_p(p, m, tf, s, v , u):    \n",
    "    ts = m.time * tf.value[0] # scaled time\n",
    "\n",
    "    # plot results\n",
    "    plt.figure(1)\n",
    "    plt.subplot(3,1,1)\n",
    "    plt.plot(ts,s.value,'r-',lw=2)\n",
    "    plt.ylabel('Position')\n",
    "    plt.legend(['x_1 (Position)'])\n",
    "\n",
    "    plt.subplot(3,1,2)\n",
    "    plt.plot(ts,v.value,'b-',lw=2)\n",
    "    plt.ylabel('Velocity')\n",
    "    plt.legend(['x_2 (Velocity)'])\n",
    "\n",
    "    plt.subplot(3,1,3)\n",
    "    plt.plot(ts,u.value,'g-',lw=2)\n",
    "    plt.ylabel('Force')\n",
    "    plt.legend(['u (Force)'])\n",
    "\n",
    "    plt.xlabel('Time')\n",
    "    plt.title(f\"The numerical solution (T= {tf.value[0]}) with p = {p}\",y=-0.8)\n",
    "    plt.show()"
   ]
  },
  {
   "cell_type": "code",
   "execution_count": 7,
   "metadata": {},
   "outputs": [
    {
     "ename": "ImportError",
     "evalue": "No solution or server unreachable.\n  Show errors with m.solve(disp=True).\n  Try local solve with m=GEKKO(remote=False).",
     "output_type": "error",
     "traceback": [
      "\u001b[0;31m---------------------------------------------------------------------------\u001b[0m",
      "\u001b[0;31mTimeoutError\u001b[0m                              Traceback (most recent call last)",
      "File \u001b[0;32m/Library/Developer/CommandLineTools/Library/Frameworks/Python3.framework/Versions/3.9/lib/python3.9/urllib/request.py:1346\u001b[0m, in \u001b[0;36mAbstractHTTPHandler.do_open\u001b[0;34m(self, http_class, req, **http_conn_args)\u001b[0m\n\u001b[1;32m   1345\u001b[0m \u001b[39mtry\u001b[39;00m:\n\u001b[0;32m-> 1346\u001b[0m     h\u001b[39m.\u001b[39;49mrequest(req\u001b[39m.\u001b[39;49mget_method(), req\u001b[39m.\u001b[39;49mselector, req\u001b[39m.\u001b[39;49mdata, headers,\n\u001b[1;32m   1347\u001b[0m               encode_chunked\u001b[39m=\u001b[39;49mreq\u001b[39m.\u001b[39;49mhas_header(\u001b[39m'\u001b[39;49m\u001b[39mTransfer-encoding\u001b[39;49m\u001b[39m'\u001b[39;49m))\n\u001b[1;32m   1348\u001b[0m \u001b[39mexcept\u001b[39;00m \u001b[39mOSError\u001b[39;00m \u001b[39mas\u001b[39;00m err: \u001b[39m# timeout error\u001b[39;00m\n",
      "File \u001b[0;32m/Library/Developer/CommandLineTools/Library/Frameworks/Python3.framework/Versions/3.9/lib/python3.9/http/client.py:1257\u001b[0m, in \u001b[0;36mHTTPConnection.request\u001b[0;34m(self, method, url, body, headers, encode_chunked)\u001b[0m\n\u001b[1;32m   1256\u001b[0m \u001b[39m\"\"\"Send a complete request to the server.\"\"\"\u001b[39;00m\n\u001b[0;32m-> 1257\u001b[0m \u001b[39mself\u001b[39;49m\u001b[39m.\u001b[39;49m_send_request(method, url, body, headers, encode_chunked)\n",
      "File \u001b[0;32m/Library/Developer/CommandLineTools/Library/Frameworks/Python3.framework/Versions/3.9/lib/python3.9/http/client.py:1303\u001b[0m, in \u001b[0;36mHTTPConnection._send_request\u001b[0;34m(self, method, url, body, headers, encode_chunked)\u001b[0m\n\u001b[1;32m   1302\u001b[0m     body \u001b[39m=\u001b[39m _encode(body, \u001b[39m'\u001b[39m\u001b[39mbody\u001b[39m\u001b[39m'\u001b[39m)\n\u001b[0;32m-> 1303\u001b[0m \u001b[39mself\u001b[39;49m\u001b[39m.\u001b[39;49mendheaders(body, encode_chunked\u001b[39m=\u001b[39;49mencode_chunked)\n",
      "File \u001b[0;32m/Library/Developer/CommandLineTools/Library/Frameworks/Python3.framework/Versions/3.9/lib/python3.9/http/client.py:1252\u001b[0m, in \u001b[0;36mHTTPConnection.endheaders\u001b[0;34m(self, message_body, encode_chunked)\u001b[0m\n\u001b[1;32m   1251\u001b[0m     \u001b[39mraise\u001b[39;00m CannotSendHeader()\n\u001b[0;32m-> 1252\u001b[0m \u001b[39mself\u001b[39;49m\u001b[39m.\u001b[39;49m_send_output(message_body, encode_chunked\u001b[39m=\u001b[39;49mencode_chunked)\n",
      "File \u001b[0;32m/Library/Developer/CommandLineTools/Library/Frameworks/Python3.framework/Versions/3.9/lib/python3.9/http/client.py:1012\u001b[0m, in \u001b[0;36mHTTPConnection._send_output\u001b[0;34m(self, message_body, encode_chunked)\u001b[0m\n\u001b[1;32m   1011\u001b[0m \u001b[39mdel\u001b[39;00m \u001b[39mself\u001b[39m\u001b[39m.\u001b[39m_buffer[:]\n\u001b[0;32m-> 1012\u001b[0m \u001b[39mself\u001b[39;49m\u001b[39m.\u001b[39;49msend(msg)\n\u001b[1;32m   1014\u001b[0m \u001b[39mif\u001b[39;00m message_body \u001b[39mis\u001b[39;00m \u001b[39mnot\u001b[39;00m \u001b[39mNone\u001b[39;00m:\n\u001b[1;32m   1015\u001b[0m \n\u001b[1;32m   1016\u001b[0m     \u001b[39m# create a consistent interface to message_body\u001b[39;00m\n",
      "File \u001b[0;32m/Library/Developer/CommandLineTools/Library/Frameworks/Python3.framework/Versions/3.9/lib/python3.9/http/client.py:952\u001b[0m, in \u001b[0;36mHTTPConnection.send\u001b[0;34m(self, data)\u001b[0m\n\u001b[1;32m    951\u001b[0m \u001b[39mif\u001b[39;00m \u001b[39mself\u001b[39m\u001b[39m.\u001b[39mauto_open:\n\u001b[0;32m--> 952\u001b[0m     \u001b[39mself\u001b[39;49m\u001b[39m.\u001b[39;49mconnect()\n\u001b[1;32m    953\u001b[0m \u001b[39melse\u001b[39;00m:\n",
      "File \u001b[0;32m/Library/Developer/CommandLineTools/Library/Frameworks/Python3.framework/Versions/3.9/lib/python3.9/http/client.py:923\u001b[0m, in \u001b[0;36mHTTPConnection.connect\u001b[0;34m(self)\u001b[0m\n\u001b[1;32m    922\u001b[0m \u001b[39m\"\"\"Connect to the host and port specified in __init__.\"\"\"\u001b[39;00m\n\u001b[0;32m--> 923\u001b[0m \u001b[39mself\u001b[39m\u001b[39m.\u001b[39msock \u001b[39m=\u001b[39m \u001b[39mself\u001b[39;49m\u001b[39m.\u001b[39;49m_create_connection(\n\u001b[1;32m    924\u001b[0m     (\u001b[39mself\u001b[39;49m\u001b[39m.\u001b[39;49mhost,\u001b[39mself\u001b[39;49m\u001b[39m.\u001b[39;49mport), \u001b[39mself\u001b[39;49m\u001b[39m.\u001b[39;49mtimeout, \u001b[39mself\u001b[39;49m\u001b[39m.\u001b[39;49msource_address)\n\u001b[1;32m    925\u001b[0m \u001b[39mself\u001b[39m\u001b[39m.\u001b[39msock\u001b[39m.\u001b[39msetsockopt(socket\u001b[39m.\u001b[39mIPPROTO_TCP, socket\u001b[39m.\u001b[39mTCP_NODELAY, \u001b[39m1\u001b[39m)\n",
      "File \u001b[0;32m/Library/Developer/CommandLineTools/Library/Frameworks/Python3.framework/Versions/3.9/lib/python3.9/socket.py:843\u001b[0m, in \u001b[0;36mcreate_connection\u001b[0;34m(address, timeout, source_address)\u001b[0m\n\u001b[1;32m    842\u001b[0m \u001b[39mtry\u001b[39;00m:\n\u001b[0;32m--> 843\u001b[0m     \u001b[39mraise\u001b[39;00m err\n\u001b[1;32m    844\u001b[0m \u001b[39mfinally\u001b[39;00m:\n\u001b[1;32m    845\u001b[0m     \u001b[39m# Break explicitly a reference cycle\u001b[39;00m\n",
      "File \u001b[0;32m/Library/Developer/CommandLineTools/Library/Frameworks/Python3.framework/Versions/3.9/lib/python3.9/socket.py:831\u001b[0m, in \u001b[0;36mcreate_connection\u001b[0;34m(address, timeout, source_address)\u001b[0m\n\u001b[1;32m    830\u001b[0m     sock\u001b[39m.\u001b[39mbind(source_address)\n\u001b[0;32m--> 831\u001b[0m sock\u001b[39m.\u001b[39;49mconnect(sa)\n\u001b[1;32m    832\u001b[0m \u001b[39m# Break explicitly a reference cycle\u001b[39;00m\n",
      "\u001b[0;31mTimeoutError\u001b[0m: [Errno 60] Operation timed out",
      "\nDuring handling of the above exception, another exception occurred:\n",
      "\u001b[0;31mURLError\u001b[0m                                  Traceback (most recent call last)",
      "File \u001b[0;32m~/Library/Python/3.9/lib/python/site-packages/gekko/gekko.py:2195\u001b[0m, in \u001b[0;36mGEKKO.solve\u001b[0;34m(self, disp, debug, GUI, **kwargs)\u001b[0m\n\u001b[1;32m   2194\u001b[0m \u001b[39mtry\u001b[39;00m:\n\u001b[0;32m-> 2195\u001b[0m     results \u001b[39m=\u001b[39m byte2str(get_file(\u001b[39mself\u001b[39;49m\u001b[39m.\u001b[39;49m_server,\u001b[39mself\u001b[39;49m\u001b[39m.\u001b[39;49m_model_name,\u001b[39m'\u001b[39;49m\u001b[39mresults.json\u001b[39;49m\u001b[39m'\u001b[39;49m))\n\u001b[1;32m   2196\u001b[0m     f \u001b[39m=\u001b[39m \u001b[39mopen\u001b[39m(os\u001b[39m.\u001b[39mpath\u001b[39m.\u001b[39mjoin(\u001b[39mself\u001b[39m\u001b[39m.\u001b[39m_path,\u001b[39m'\u001b[39m\u001b[39mresults.json\u001b[39m\u001b[39m'\u001b[39m), \u001b[39m'\u001b[39m\u001b[39mw\u001b[39m\u001b[39m'\u001b[39m)\n",
      "File \u001b[0;32m~/Library/Python/3.9/lib/python/site-packages/gekko/apm.py:154\u001b[0m, in \u001b[0;36mget_file\u001b[0;34m(server, app, filename)\u001b[0m\n\u001b[1;32m    153\u001b[0m \u001b[39m# Retrieve IP address\u001b[39;00m\n\u001b[0;32m--> 154\u001b[0m ip \u001b[39m=\u001b[39m get_ip(server)\n\u001b[1;32m    156\u001b[0m \u001b[39m# Web-server URL address\u001b[39;00m\n",
      "File \u001b[0;32m~/Library/Python/3.9/lib/python/site-packages/gekko/apm.py:144\u001b[0m, in \u001b[0;36mget_ip\u001b[0;34m(server)\u001b[0m\n\u001b[1;32m    143\u001b[0m url_base \u001b[39m=\u001b[39m server\u001b[39m.\u001b[39mstrip() \u001b[39m+\u001b[39m \u001b[39m'\u001b[39m\u001b[39m/ip.php\u001b[39m\u001b[39m'\u001b[39m\n\u001b[0;32m--> 144\u001b[0m f \u001b[39m=\u001b[39m urllib\u001b[39m.\u001b[39;49mrequest\u001b[39m.\u001b[39;49murlopen(url_base)\n\u001b[1;32m    145\u001b[0m fip \u001b[39m=\u001b[39m f\u001b[39m.\u001b[39mread()\n",
      "File \u001b[0;32m/Library/Developer/CommandLineTools/Library/Frameworks/Python3.framework/Versions/3.9/lib/python3.9/urllib/request.py:214\u001b[0m, in \u001b[0;36murlopen\u001b[0;34m(url, data, timeout, cafile, capath, cadefault, context)\u001b[0m\n\u001b[1;32m    213\u001b[0m     opener \u001b[39m=\u001b[39m _opener\n\u001b[0;32m--> 214\u001b[0m \u001b[39mreturn\u001b[39;00m opener\u001b[39m.\u001b[39;49mopen(url, data, timeout)\n",
      "File \u001b[0;32m/Library/Developer/CommandLineTools/Library/Frameworks/Python3.framework/Versions/3.9/lib/python3.9/urllib/request.py:517\u001b[0m, in \u001b[0;36mOpenerDirector.open\u001b[0;34m(self, fullurl, data, timeout)\u001b[0m\n\u001b[1;32m    516\u001b[0m sys\u001b[39m.\u001b[39maudit(\u001b[39m'\u001b[39m\u001b[39murllib.Request\u001b[39m\u001b[39m'\u001b[39m, req\u001b[39m.\u001b[39mfull_url, req\u001b[39m.\u001b[39mdata, req\u001b[39m.\u001b[39mheaders, req\u001b[39m.\u001b[39mget_method())\n\u001b[0;32m--> 517\u001b[0m response \u001b[39m=\u001b[39m \u001b[39mself\u001b[39;49m\u001b[39m.\u001b[39;49m_open(req, data)\n\u001b[1;32m    519\u001b[0m \u001b[39m# post-process response\u001b[39;00m\n",
      "File \u001b[0;32m/Library/Developer/CommandLineTools/Library/Frameworks/Python3.framework/Versions/3.9/lib/python3.9/urllib/request.py:534\u001b[0m, in \u001b[0;36mOpenerDirector._open\u001b[0;34m(self, req, data)\u001b[0m\n\u001b[1;32m    533\u001b[0m protocol \u001b[39m=\u001b[39m req\u001b[39m.\u001b[39mtype\n\u001b[0;32m--> 534\u001b[0m result \u001b[39m=\u001b[39m \u001b[39mself\u001b[39;49m\u001b[39m.\u001b[39;49m_call_chain(\u001b[39mself\u001b[39;49m\u001b[39m.\u001b[39;49mhandle_open, protocol, protocol \u001b[39m+\u001b[39;49m\n\u001b[1;32m    535\u001b[0m                           \u001b[39m'\u001b[39;49m\u001b[39m_open\u001b[39;49m\u001b[39m'\u001b[39;49m, req)\n\u001b[1;32m    536\u001b[0m \u001b[39mif\u001b[39;00m result:\n",
      "File \u001b[0;32m/Library/Developer/CommandLineTools/Library/Frameworks/Python3.framework/Versions/3.9/lib/python3.9/urllib/request.py:494\u001b[0m, in \u001b[0;36mOpenerDirector._call_chain\u001b[0;34m(self, chain, kind, meth_name, *args)\u001b[0m\n\u001b[1;32m    493\u001b[0m func \u001b[39m=\u001b[39m \u001b[39mgetattr\u001b[39m(handler, meth_name)\n\u001b[0;32m--> 494\u001b[0m result \u001b[39m=\u001b[39m func(\u001b[39m*\u001b[39;49margs)\n\u001b[1;32m    495\u001b[0m \u001b[39mif\u001b[39;00m result \u001b[39mis\u001b[39;00m \u001b[39mnot\u001b[39;00m \u001b[39mNone\u001b[39;00m:\n",
      "File \u001b[0;32m/Library/Developer/CommandLineTools/Library/Frameworks/Python3.framework/Versions/3.9/lib/python3.9/urllib/request.py:1375\u001b[0m, in \u001b[0;36mHTTPHandler.http_open\u001b[0;34m(self, req)\u001b[0m\n\u001b[1;32m   1374\u001b[0m \u001b[39mdef\u001b[39;00m \u001b[39mhttp_open\u001b[39m(\u001b[39mself\u001b[39m, req):\n\u001b[0;32m-> 1375\u001b[0m     \u001b[39mreturn\u001b[39;00m \u001b[39mself\u001b[39;49m\u001b[39m.\u001b[39;49mdo_open(http\u001b[39m.\u001b[39;49mclient\u001b[39m.\u001b[39;49mHTTPConnection, req)\n",
      "File \u001b[0;32m/Library/Developer/CommandLineTools/Library/Frameworks/Python3.framework/Versions/3.9/lib/python3.9/urllib/request.py:1349\u001b[0m, in \u001b[0;36mAbstractHTTPHandler.do_open\u001b[0;34m(self, http_class, req, **http_conn_args)\u001b[0m\n\u001b[1;32m   1348\u001b[0m \u001b[39mexcept\u001b[39;00m \u001b[39mOSError\u001b[39;00m \u001b[39mas\u001b[39;00m err: \u001b[39m# timeout error\u001b[39;00m\n\u001b[0;32m-> 1349\u001b[0m     \u001b[39mraise\u001b[39;00m URLError(err)\n\u001b[1;32m   1350\u001b[0m r \u001b[39m=\u001b[39m h\u001b[39m.\u001b[39mgetresponse()\n",
      "\u001b[0;31mURLError\u001b[0m: <urlopen error [Errno 60] Operation timed out>",
      "\nDuring handling of the above exception, another exception occurred:\n",
      "\u001b[0;31mImportError\u001b[0m                               Traceback (most recent call last)",
      "Cell \u001b[0;32mIn[7], line 2\u001b[0m\n\u001b[1;32m      1\u001b[0m p \u001b[39m=\u001b[39m \u001b[39m0\u001b[39m\n\u001b[0;32m----> 2\u001b[0m m, tf, s, v , u  \u001b[39m=\u001b[39m get_solver(p)\n\u001b[1;32m      3\u001b[0m \u001b[39m#plot_p(p, m, tf, s, v , u)\u001b[39;00m\n",
      "Cell \u001b[0;32mIn[5], line 32\u001b[0m, in \u001b[0;36mget_solver\u001b[0;34m(p, nr_points)\u001b[0m\n\u001b[1;32m     30\u001b[0m \u001b[39m#m.fix(v, pos=len(m.time)-1,val=-0.0)\u001b[39;00m\n\u001b[1;32m     31\u001b[0m m\u001b[39m.\u001b[39mObj(tf) \u001b[39m# minimize final time\u001b[39;00m\n\u001b[0;32m---> 32\u001b[0m m\u001b[39m.\u001b[39;49msolve() \u001b[39m# Optimize launch\u001b[39;00m\n\u001b[1;32m     33\u001b[0m ts \u001b[39m=\u001b[39m m\u001b[39m.\u001b[39mtime \u001b[39m*\u001b[39m tf\u001b[39m.\u001b[39mvalue[\u001b[39m0\u001b[39m]\n\u001b[1;32m     35\u001b[0m \u001b[39m##return ts, s.value, v.value, u.value    \u001b[39;00m\n",
      "File \u001b[0;32m~/Library/Python/3.9/lib/python/site-packages/gekko/gekko.py:2212\u001b[0m, in \u001b[0;36mGEKKO.solve\u001b[0;34m(self, disp, debug, GUI, **kwargs)\u001b[0m\n\u001b[1;32m   2210\u001b[0m                     f\u001b[39m.\u001b[39mwrite(\u001b[39mstr\u001b[39m(results_all))\n\u001b[1;32m   2211\u001b[0m     \u001b[39mexcept\u001b[39;00m:\n\u001b[0;32m-> 2212\u001b[0m         \u001b[39mraise\u001b[39;00m \u001b[39mImportError\u001b[39;00m(\u001b[39m'\u001b[39m\u001b[39mNo solution or server unreachable.\u001b[39m\u001b[39m\\n\u001b[39;00m\u001b[39m'\u001b[39m\u001b[39m+\u001b[39m\\\n\u001b[1;32m   2213\u001b[0m                           \u001b[39m'\u001b[39m\u001b[39m  Show errors with m.solve(disp=True).\u001b[39m\u001b[39m\\n\u001b[39;00m\u001b[39m'\u001b[39m\u001b[39m+\u001b[39m\\\n\u001b[1;32m   2214\u001b[0m                           \u001b[39m'\u001b[39m\u001b[39m  Try local solve with m=GEKKO(remote=False).\u001b[39m\u001b[39m'\u001b[39m)\n\u001b[1;32m   2216\u001b[0m \u001b[39mif\u001b[39;00m timing \u001b[39m==\u001b[39m \u001b[39mTrue\u001b[39;00m:\n\u001b[1;32m   2217\u001b[0m     \u001b[39mprint\u001b[39m(\u001b[39m'\u001b[39m\u001b[39msolve\u001b[39m\u001b[39m'\u001b[39m, time\u001b[39m.\u001b[39mtime() \u001b[39m-\u001b[39m t)\n",
      "\u001b[0;31mImportError\u001b[0m: No solution or server unreachable.\n  Show errors with m.solve(disp=True).\n  Try local solve with m=GEKKO(remote=False)."
     ]
    }
   ],
   "source": [
    "p = 0\n",
    "m, tf, s, v , u  = get_solver(p)\n",
    "#plot_p(p, m, tf, s, v , u)\n"
   ]
  },
  {
   "cell_type": "code",
   "execution_count": null,
   "metadata": {},
   "outputs": [],
   "source": [
    "p = 2\n",
    "m, tf, s, v , u  = get_solver(p)\n",
    "plot_p(p, m, tf, s, v , u)"
   ]
  },
  {
   "cell_type": "code",
   "execution_count": null,
   "metadata": {},
   "outputs": [],
   "source": [
    "p = 5\n",
    "m, tf, s, v , u  = get_solver(p)\n",
    "plot_p(p, m, tf, s, v , u)"
   ]
  },
  {
   "cell_type": "code",
   "execution_count": null,
   "metadata": {},
   "outputs": [],
   "source": [
    "p = 7\n",
    "m, tf, s, v , u  = get_solver(p)\n",
    "plot_p(p, m, tf, s, v , u)"
   ]
  },
  {
   "cell_type": "code",
   "execution_count": null,
   "metadata": {},
   "outputs": [],
   "source": [
    "p = 9\n",
    "m, tf, s, v , u  = get_solver(p)\n",
    "plot_p(p, m, tf, s, v , u)"
   ]
  },
  {
   "cell_type": "code",
   "execution_count": null,
   "metadata": {},
   "outputs": [],
   "source": []
  },
  {
   "cell_type": "code",
   "execution_count": null,
   "metadata": {},
   "outputs": [],
   "source": []
  },
  {
   "cell_type": "code",
   "execution_count": null,
   "metadata": {},
   "outputs": [],
   "source": []
  },
  {
   "cell_type": "code",
   "execution_count": null,
   "metadata": {},
   "outputs": [],
   "source": []
  },
  {
   "cell_type": "code",
   "execution_count": null,
   "metadata": {},
   "outputs": [],
   "source": []
  },
  {
   "cell_type": "code",
   "execution_count": null,
   "metadata": {},
   "outputs": [],
   "source": []
  },
  {
   "cell_type": "code",
   "execution_count": null,
   "metadata": {},
   "outputs": [],
   "source": [
    "# ts = m.time * tf.value[0] # scaled time\n",
    "\n",
    "# # plot results\n",
    "# plt.figure(1)\n",
    "# plt.subplot(3,1,1)\n",
    "# plt.plot(ts,s.value,'r-',lw=2)\n",
    "# plt.ylabel('Position')\n",
    "# plt.legend(['x_1 (Position)'])\n",
    "\n",
    "# plt.subplot(3,1,2)\n",
    "# plt.plot(ts,v.value,'b-',lw=2)\n",
    "# plt.ylabel('Velocity')\n",
    "# plt.legend(['x_2 (Velocity)'])\n",
    "\n",
    "# plt.subplot(3,1,3)\n",
    "# plt.plot(ts,u.value,'g-',lw=2)\n",
    "# plt.ylabel('Force')\n",
    "# plt.legend(['u (Force)'])\n",
    "\n",
    "# plt.xlabel('Time')\n",
    "# plt.title(f\"The numerical solution (T= {tf.value[0]}) with p = {p}\",y=-0.8)\n",
    "# plt.show()"
   ]
  },
  {
   "cell_type": "code",
   "execution_count": null,
   "metadata": {},
   "outputs": [],
   "source": []
  },
  {
   "cell_type": "code",
   "execution_count": null,
   "metadata": {},
   "outputs": [],
   "source": [
    "# ## https://apmonitor.com/do/index.php/Main/RocketOptimization\n",
    "\n",
    "# import numpy as np\n",
    "# import matplotlib.pyplot as plt\n",
    "# from gekko import GEKKO\n",
    "\n",
    "# # create GEKKO model\n",
    "# m = GEKKO()\n",
    "\n",
    "# # scale 0-1 time with tf\n",
    "# m.time = np.linspace(0,1,501)\n",
    "\n",
    "# # options\n",
    "# m.options.NODES = 6\n",
    "# m.options.SOLVER = 3\n",
    "# m.options.IMODE = 6\n",
    "# m.options.MAX_ITER = 500\n",
    "# m.options.MV_TYPE = 0\n",
    "# m.options.DIAGLEVEL = 0\n",
    "\n",
    "# # final time\n",
    "# tf = m.FV(value=1.0,lb=0.1,ub=15)\n",
    "# tf.STATUS = 1\n",
    "\n",
    "# # force\n",
    "# u = m.MV(value=10,lb=-10,ub=10)\n",
    "# u.STATUS = 1\n",
    "# u.DCOST = 1e-5\n",
    "\n",
    "# # variables\n",
    "# s = m.Var(value=0,lb=0, ub=100)\n",
    "# v = m.Var(value=0,lb=-10,ub=4)\n",
    "# ## mass = m.Var(value=1,lb=0.2)\n",
    "\n",
    "# # differential equations scaled by tf\n",
    "# m.Equation(s.dt()==tf*v)\n",
    "# m.Equation(v.dt()==tf*(u))\n",
    "# # m.Equation(mass.dt()==tf*(-0.01*u**2))\n",
    "\n",
    "# # specify endpoint conditions\n",
    "# m.fix(s, pos=len(m.time)-1,val=10.0)\n",
    "# #m.fix(v, pos=len(m.time)-1,val=-0.0)\n",
    "\n",
    "# # minimize final time\n",
    "# m.Obj(tf)\n",
    "\n",
    "# # Optimize launch\n",
    "# m.solve()\n",
    "\n",
    "# print('Optimal Solution (final time): ' + str(tf.value[0]))\n",
    "\n",
    "# # scaled time\n",
    "# ts = m.time * tf.value[0]\n",
    "\n",
    "# # plot results\n",
    "# plt.figure(1)\n",
    "# plt.subplot(3,1,1)\n",
    "# plt.plot(ts,s.value,'r-',lw=2)\n",
    "# plt.ylabel('Position')\n",
    "# plt.legend(['x_1 (Position)'])\n",
    "\n",
    "# plt.subplot(3,1,2)\n",
    "# plt.plot(ts,v.value,'b-',lw=2)\n",
    "# plt.ylabel('Velocity')\n",
    "# plt.legend(['x_2 (Velocity)'])\n",
    "\n",
    "# # plt.subplot(4,1,3)\n",
    "# # plt.plot(ts,mass.value,'k-',lw=2)\n",
    "# # plt.ylabel('Mass')\n",
    "# # plt.legend(['m (Mass)'])\n",
    "\n",
    "# plt.subplot(3,1,3)\n",
    "# plt.plot(ts,u.value,'g-',lw=2)\n",
    "# plt.ylabel('Force')\n",
    "# plt.legend(['u (Force)'])\n",
    "\n",
    "# plt.xlabel('Time')\n",
    "# plt.show()"
   ]
  },
  {
   "cell_type": "code",
   "execution_count": null,
   "metadata": {},
   "outputs": [],
   "source": []
  },
  {
   "cell_type": "code",
   "execution_count": null,
   "metadata": {},
   "outputs": [],
   "source": []
  },
  {
   "cell_type": "code",
   "execution_count": null,
   "metadata": {},
   "outputs": [],
   "source": []
  },
  {
   "cell_type": "code",
   "execution_count": null,
   "metadata": {},
   "outputs": [],
   "source": []
  }
 ],
 "metadata": {
  "kernelspec": {
   "display_name": "Python 3",
   "language": "python",
   "name": "python3"
  },
  "language_info": {
   "codemirror_mode": {
    "name": "ipython",
    "version": 3
   },
   "file_extension": ".py",
   "mimetype": "text/x-python",
   "name": "python",
   "nbconvert_exporter": "python",
   "pygments_lexer": "ipython3",
   "version": "3.11.1 (tags/v3.11.1:a7a450f, Dec  6 2022, 19:58:39) [MSC v.1934 64 bit (AMD64)]"
  },
  "orig_nbformat": 4,
  "vscode": {
   "interpreter": {
    "hash": "b91f41160b83ffc59c7e17fa6fd02d637d5dcf1d5e59aa2db87d82178661b954"
   }
  }
 },
 "nbformat": 4,
 "nbformat_minor": 2
}
